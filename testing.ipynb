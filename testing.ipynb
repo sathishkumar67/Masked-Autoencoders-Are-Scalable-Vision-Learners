{
 "cells": [
  {
   "cell_type": "code",
   "execution_count": 1,
   "metadata": {},
   "outputs": [],
   "source": [
    "from encoder import *\n",
    "import torchvision"
   ]
  },
  {
   "cell_type": "code",
   "execution_count": 2,
   "metadata": {},
   "outputs": [],
   "source": [
    "config = SiglipVisionConfig(\n",
    "    image_size=224,\n",
    "    hidden_size=768,\n",
    "    intermediate_size=3072,\n",
    "    num_hidden_layers=12,\n",
    "    num_attention_heads=12,\n",
    "    num_channels=3,\n",
    "    patch_size=16,\n",
    "    layer_norm_eps=1e-6,\n",
    "    attention_dropout=0.0,\n",
    "    num_image_tokens=None\n",
    ")"
   ]
  },
  {
   "cell_type": "code",
   "execution_count": 3,
   "metadata": {},
   "outputs": [],
   "source": [
    "model = SiglipVisionModel(config)"
   ]
  },
  {
   "cell_type": "code",
   "execution_count": 5,
   "metadata": {},
   "outputs": [],
   "source": [
    "img = torchvision.io.read_image(\"dog.jpg\")\n",
    "# resize image to 224x224\n",
    "img = torchvision.transforms.functional.resize(img, (224, 224)).unsqueeze(0)\n",
    "# normalize image\n",
    "img = img / 255.0"
   ]
  },
  {
   "cell_type": "code",
   "execution_count": 6,
   "metadata": {},
   "outputs": [
    {
     "data": {
      "text/plain": [
       "torch.Size([1, 196, 768])"
      ]
     },
     "execution_count": 6,
     "metadata": {},
     "output_type": "execute_result"
    }
   ],
   "source": [
    "output = model(img)\n",
    "output.shape"
   ]
  },
  {
   "cell_type": "code",
   "execution_count": 25,
   "metadata": {},
   "outputs": [
    {
     "data": {
      "text/plain": [
       "49"
      ]
     },
     "execution_count": 25,
     "metadata": {},
     "output_type": "execute_result"
    }
   ],
   "source": [
    "N, L, D = output.shape\n",
    "keep_length = int(L * (1 - 0.75))\n",
    "keep_length"
   ]
  },
  {
   "cell_type": "code",
   "execution_count": 36,
   "metadata": {},
   "outputs": [],
   "source": [
    "noise = torch.rand(N, L)\n",
    "ids_shuffle = torch.argsort(noise, dim=1)\n",
    "ids_restore = torch.argsort(ids_shuffle, dim=1)"
   ]
  },
  {
   "cell_type": "code",
   "execution_count": 37,
   "metadata": {},
   "outputs": [
    {
     "ename": "NameError",
     "evalue": "name 'ids_keep' is not defined",
     "output_type": "error",
     "traceback": [
      "\u001b[1;31m---------------------------------------------------------------------------\u001b[0m",
      "\u001b[1;31mNameError\u001b[0m                                 Traceback (most recent call last)",
      "Cell \u001b[1;32mIn[37], line 1\u001b[0m\n\u001b[1;32m----> 1\u001b[0m \u001b[43mids_keep\u001b[49m\u001b[38;5;241m.\u001b[39munsqueeze(\u001b[38;5;241m-\u001b[39m\u001b[38;5;241m1\u001b[39m)\u001b[38;5;241m.\u001b[39mrepeat(\u001b[38;5;241m1\u001b[39m, \u001b[38;5;241m1\u001b[39m, D)\n",
      "\u001b[1;31mNameError\u001b[0m: name 'ids_keep' is not defined"
     ]
    }
   ],
   "source": [
    "ids_keep.unsqueeze(-1).repeat(1, 1, D)"
   ]
  },
  {
   "cell_type": "code",
   "execution_count": 38,
   "metadata": {},
   "outputs": [],
   "source": [
    "ids_keep = ids_shuffle[:, :keep_length]\n",
    "# x_masked = torch.gather(output, dim=1, index=ids_keep.unsqueeze(-1).repeat(1, 1, D))"
   ]
  },
  {
   "cell_type": "code",
   "execution_count": 39,
   "metadata": {},
   "outputs": [
    {
     "data": {
      "text/plain": [
       "tensor([[ 54,  62, 169, 164,  40, 119, 103,  84, 175, 124,   7, 155,  30, 157,\n",
       "         135, 172,  42,  44, 118, 192,  31,   6,  25,  64, 142, 116,  34,  82,\n",
       "         147,  98, 109, 190,  95, 149, 140,   2,  65,  60,  66, 120,  78, 189,\n",
       "          99, 117,  73,  49,  41,  14, 131]])"
      ]
     },
     "execution_count": 39,
     "metadata": {},
     "output_type": "execute_result"
    }
   ],
   "source": [
    "ids_keep"
   ]
  },
  {
   "cell_type": "code",
   "execution_count": null,
   "metadata": {},
   "outputs": [],
   "source": []
  }
 ],
 "metadata": {
  "kernelspec": {
   "display_name": "dl",
   "language": "python",
   "name": "python3"
  },
  "language_info": {
   "codemirror_mode": {
    "name": "ipython",
    "version": 3
   },
   "file_extension": ".py",
   "mimetype": "text/x-python",
   "name": "python",
   "nbconvert_exporter": "python",
   "pygments_lexer": "ipython3",
   "version": "3.11.9"
  }
 },
 "nbformat": 4,
 "nbformat_minor": 2
}
