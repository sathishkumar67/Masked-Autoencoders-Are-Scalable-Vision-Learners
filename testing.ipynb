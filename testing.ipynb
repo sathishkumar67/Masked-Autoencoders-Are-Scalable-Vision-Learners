{
 "cells": [
  {
   "cell_type": "code",
   "execution_count": 1,
   "metadata": {},
   "outputs": [],
   "source": [
    "from encoder import *\n",
    "from decoder import *\n",
    "import torchvision"
   ]
  },
  {
   "cell_type": "code",
   "execution_count": 2,
   "metadata": {},
   "outputs": [],
   "source": [
    "encoder_config = EncoderConfig(\n",
    "    image_size=224,\n",
    "    hidden_size=768,\n",
    "    intermediate_size=3072,\n",
    "    num_hidden_layers=12,\n",
    "    num_attention_heads=12,\n",
    "    num_channels=3,\n",
    "    patch_size=16,\n",
    "    layer_norm_eps=1e-6,\n",
    "    attention_dropout=0.0,\n",
    "    num_image_tokens=None,\n",
    "    do_random_mask=True,\n",
    "    mask_ratio=0.75\n",
    ")\n",
    "\n",
    "decoder_config = DecoderConfig(\n",
    "    image_size=224,\n",
    "    in_proj_dim=768,\n",
    "    hidden_size=768,\n",
    "    intermediate_size=3072,\n",
    "    num_hidden_layers=12,\n",
    "    num_attention_heads=12,\n",
    "    num_channels=3,\n",
    "    patch_size=16,\n",
    "    layer_norm_eps=1e-6,\n",
    "    attention_dropout=0.0,\n",
    "    do_loss_calculation=True,\n",
    "    do_norm_pix_loss=False\n",
    ")"
   ]
  },
  {
   "cell_type": "code",
   "execution_count": 3,
   "metadata": {},
   "outputs": [],
   "source": [
    "encoder = EncoderModel(encoder_config)\n",
    "decoder = DecoderModel(decoder_config)"
   ]
  },
  {
   "cell_type": "code",
   "execution_count": 4,
   "metadata": {},
   "outputs": [],
   "source": [
    "img = torchvision.io.read_image(\"dog.jpg\")\n",
    "# resize image to 224x224\n",
    "img = torchvision.transforms.functional.resize(img, (224, 224)).unsqueeze(0)\n",
    "# normalize image\n",
    "img = img / 255.0"
   ]
  },
  {
   "cell_type": "code",
   "execution_count": 5,
   "metadata": {},
   "outputs": [
    {
     "data": {
      "text/plain": [
       "torch.Size([2, 3, 224, 224])"
      ]
     },
     "execution_count": 5,
     "metadata": {},
     "output_type": "execute_result"
    }
   ],
   "source": [
    "img = img.repeat(2, 1, 1, 1)\n",
    "img.shape"
   ]
  },
  {
   "cell_type": "code",
   "execution_count": 6,
   "metadata": {},
   "outputs": [
    {
     "data": {
      "text/plain": [
       "torch.Size([2, 49, 768])"
      ]
     },
     "execution_count": 6,
     "metadata": {},
     "output_type": "execute_result"
    }
   ],
   "source": [
    "encoder_op, mask, ids_restore, target = encoder(img)\n",
    "encoder_op.shape"
   ]
  },
  {
   "cell_type": "code",
   "execution_count": 7,
   "metadata": {},
   "outputs": [
    {
     "data": {
      "text/plain": [
       "(torch.Size([2, 196, 768]), tensor(1.4868, grad_fn=<DivBackward0>))"
      ]
     },
     "execution_count": 7,
     "metadata": {},
     "output_type": "execute_result"
    }
   ],
   "source": [
    "op, loss = decoder((encoder_op, mask, ids_restore), target)\n",
    "op.shape, loss"
   ]
  },
  {
   "cell_type": "code",
   "execution_count": 8,
   "metadata": {},
   "outputs": [],
   "source": [
    "# def mae_loss(pred, target, mask):\n",
    "#     \"\"\"\n",
    "#     Compute the MAE loss for masked patches only.\n",
    "\n",
    "#     Args:\n",
    "#     - pred: Predicted patches, tensor of shape [batch_size, num_patches, channels].\n",
    "#     - target: Ground truth patches, tensor of shape [batch_size, num_patches, channels].\n",
    "#     - mask: Binary mask tensor of shape [batch_size, num_patches], where 1 indicates a masked patch, 0 indicates a visible patch.\n",
    "\n",
    "#     Returns:\n",
    "#     - loss: MSE loss computed only over the masked patches.\n",
    "#     \"\"\"\n",
    "#     # Reshape mask to be broadcastable over the [batch_size, num_patches, channels] dimension\n",
    "#     mask = mask.unsqueeze(-1)  # Shape: [batch_size, num_patches, 1]\n",
    "\n",
    "#     # Apply the mask: Only keep the masked patches (where mask == 1)\n",
    "#     masked_pred = pred * mask  # Shape: [batch_size, num_patches, channels]\n",
    "#     masked_target = target * mask  # Shape: [batch_size, num_patches, channels]\n",
    "\n",
    "#     # Compute MSE over masked patches\n",
    "#     loss_fn = nn.MSELoss(reduction='sum')  # Sum over all elements\n",
    "\n",
    "#     # Normalize the loss by the number of masked patches\n",
    "#     num_masked_patches = mask.sum()  # Total number of masked patches\n",
    "#     loss = loss_fn(masked_pred, masked_target) / num_masked_patches\n",
    "\n",
    "#     return loss"
   ]
  },
  {
   "cell_type": "code",
   "execution_count": null,
   "metadata": {},
   "outputs": [],
   "source": []
  }
 ],
 "metadata": {
  "kernelspec": {
   "display_name": "dl",
   "language": "python",
   "name": "python3"
  },
  "language_info": {
   "codemirror_mode": {
    "name": "ipython",
    "version": 3
   },
   "file_extension": ".py",
   "mimetype": "text/x-python",
   "name": "python",
   "nbconvert_exporter": "python",
   "pygments_lexer": "ipython3",
   "version": "3.11.9"
  }
 },
 "nbformat": 4,
 "nbformat_minor": 2
}
