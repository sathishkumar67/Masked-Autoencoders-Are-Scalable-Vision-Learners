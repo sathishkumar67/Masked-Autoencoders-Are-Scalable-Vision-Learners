{
 "cells": [
  {
   "cell_type": "code",
   "execution_count": 1,
   "metadata": {},
   "outputs": [],
   "source": [
    "from encoder import *\n",
    "import torchvision"
   ]
  },
  {
   "cell_type": "code",
   "execution_count": 18,
   "metadata": {},
   "outputs": [],
   "source": [
    "config = SiglipVisionConfig(\n",
    "    image_size=224,\n",
    "    hidden_size=768,\n",
    "    intermediate_size=3072,\n",
    "    num_hidden_layers=12,\n",
    "    num_attention_heads=12,\n",
    "    num_channels=3,\n",
    "    patch_size=16,\n",
    "    layer_norm_eps=1e-6,\n",
    "    attention_dropout=0.0,\n",
    "    num_image_tokens=None,\n",
    "    do_random_mask=False,\n",
    "    mask_ratio=0.70\n",
    ")"
   ]
  },
  {
   "cell_type": "code",
   "execution_count": 19,
   "metadata": {},
   "outputs": [],
   "source": [
    "model = SiglipVisionModel(config)"
   ]
  },
  {
   "cell_type": "code",
   "execution_count": 20,
   "metadata": {},
   "outputs": [],
   "source": [
    "img = torchvision.io.read_image(\"dog.jpg\")\n",
    "# resize image to 224x224\n",
    "img = torchvision.transforms.functional.resize(img, (224, 224)).unsqueeze(0)\n",
    "# normalize image\n",
    "img = img / 255.0"
   ]
  },
  {
   "cell_type": "code",
   "execution_count": 21,
   "metadata": {},
   "outputs": [],
   "source": [
    "img = img.repeat(2, 1, 1, 1)"
   ]
  },
  {
   "cell_type": "code",
   "execution_count": 22,
   "metadata": {},
   "outputs": [
    {
     "data": {
      "text/plain": [
       "torch.Size([2, 3, 224, 224])"
      ]
     },
     "execution_count": 22,
     "metadata": {},
     "output_type": "execute_result"
    }
   ],
   "source": [
    "img.shape"
   ]
  },
  {
   "cell_type": "code",
   "execution_count": 23,
   "metadata": {},
   "outputs": [],
   "source": [
    "output = model(img)"
   ]
  },
  {
   "cell_type": "code",
   "execution_count": 24,
   "metadata": {},
   "outputs": [
    {
     "data": {
      "text/plain": [
       "torch.Size([2, 196, 768])"
      ]
     },
     "execution_count": 24,
     "metadata": {},
     "output_type": "execute_result"
    }
   ],
   "source": [
    "output[0].shape"
   ]
  },
  {
   "cell_type": "code",
   "execution_count": 25,
   "metadata": {},
   "outputs": [
    {
     "data": {
      "text/plain": [
       "(tensor([[[ 0.5391, -0.3489,  1.2874,  ...,  1.3912, -1.4429, -1.6192],\n",
       "          [-1.3564,  0.0778, -0.3784,  ...,  0.6590,  0.5126, -2.0922],\n",
       "          [-1.3335, -1.7439, -1.3171,  ...,  0.4208, -1.4300, -1.1932],\n",
       "          ...,\n",
       "          [-0.6663,  0.3082,  0.6658,  ...,  0.5088, -0.1294, -0.8035],\n",
       "          [-0.2375,  0.3744,  0.3616,  ..., -0.0779, -0.2969,  0.8192],\n",
       "          [-0.5932,  0.7787, -0.9067,  ...,  0.6568,  0.4554, -0.5934]],\n",
       " \n",
       "         [[ 0.5391, -0.3489,  1.2874,  ...,  1.3912, -1.4429, -1.6192],\n",
       "          [-1.3564,  0.0778, -0.3784,  ...,  0.6590,  0.5126, -2.0922],\n",
       "          [-1.3335, -1.7439, -1.3171,  ...,  0.4208, -1.4300, -1.1932],\n",
       "          ...,\n",
       "          [-0.6663,  0.3082,  0.6658,  ...,  0.5088, -0.1294, -0.8035],\n",
       "          [-0.2375,  0.3744,  0.3616,  ..., -0.0779, -0.2969,  0.8192],\n",
       "          [-0.5932,  0.7787, -0.9067,  ...,  0.6568,  0.4554, -0.5934]]],\n",
       "        grad_fn=<NativeLayerNormBackward0>),\n",
       " None,\n",
       " None)"
      ]
     },
     "execution_count": 25,
     "metadata": {},
     "output_type": "execute_result"
    }
   ],
   "source": [
    "output"
   ]
  },
  {
   "cell_type": "code",
   "execution_count": null,
   "metadata": {},
   "outputs": [],
   "source": []
  }
 ],
 "metadata": {
  "kernelspec": {
   "display_name": "dl",
   "language": "python",
   "name": "python3"
  },
  "language_info": {
   "codemirror_mode": {
    "name": "ipython",
    "version": 3
   },
   "file_extension": ".py",
   "mimetype": "text/x-python",
   "name": "python",
   "nbconvert_exporter": "python",
   "pygments_lexer": "ipython3",
   "version": "3.11.9"
  }
 },
 "nbformat": 4,
 "nbformat_minor": 2
}
